{
 "cells": [
  {
   "cell_type": "markdown",
   "metadata": {},
   "source": [
    "## 1. 주요 Cmake 설정\n",
    "\n",
    "### 1.1. 프로젝트 초기 설정\n",
    "---\n",
    "```[bash]\n",
    "cmake_minimum_required(VERSION 3.8)\n",
    "project(gr-plasma CXX C)\n",
    "enable_testing()\n",
    "```\n",
    "\n",
    "\n",
    "- CMake 최소 버전: 3.8 이상 필요\n",
    "- 프로젝트 이름: gr-plasma\n",
    "- 지원 언어: C++ (CXX), C (C)\n",
    "- 테스트 기능 활성화: enable_testing()"
   ]
  },
  {
   "cell_type": "markdown",
   "metadata": {
    "vscode": {
     "languageId": "plaintext"
    }
   },
   "source": [
    "### 1.2 PyBOMBS 환경 변수 지원\n",
    "\n",
    "```[bash]\n",
    "if(DEFINED ENV{PYBOMBS_PREFIX})\n",
    "    set(CMAKE_INSTALL_PREFIX $ENV{PYBOMBS_PREFIX})\n",
    "    message(STATUS \"PyBOMBS installed GNU Radio. Setting CMAKE_INSTALL_PREFIX to $ENV{PYBOMBS_PREFIX}\")\n",
    "endif()\n",
    "```\n",
    "\n",
    "### 1.3 빌드 타입 설정\n",
    "\n",
    "```[bash]\n",
    "if(NOT CMAKE_BUILD_TYPE)\n",
    "   set(CMAKE_BUILD_TYPE \"Release\")\n",
    "   message(STATUS \"Build type not specified: defaulting to release.\")\n",
    "endif()\n",
    "```"
   ]
  },
  {
   "cell_type": "markdown",
   "metadata": {},
   "source": []
  },
  {
   "cell_type": "markdown",
   "metadata": {},
   "source": [
    "### 1.4 GNU Radio 및 관련 라이브러리 찾기\n",
    "\n",
    "```[bash]\n",
    "find_package(Gnuradio \"3.10\" REQUIRED COMPONENTS blocks)\n",
    "find_package(ArrayFire REQUIRED)\n",
    "find_package(doxygen QUIET)\n",
    "find_package(nlohmann_json QUIET)\n",
    "find_package(plasma_dsp REQUIRED)\n",
    "find_package(PythonLibs 3)\n",
    "find_package(pybind11 REQUIRED)\n",
    "find_package(Qt5 COMPONENTS Widgets REQUIRED)\n",
    "find_package(Qwt REQUIRED)\n",
    "find_package(UHD REQUIRED)\n",
    "```\n",
    "GNU Radio 3.10 버전을 필수적으로 포함해야 함.\n",
    "*ArrayFire*, *plasma_dsp*, *PythonLibs*, *pybind11*, *Qt5*, *Qwt*, *UHD* 등의 추가적인 종속 라이브러리들이 필요함.\n"
   ]
  },
  {
   "cell_type": "markdown",
   "metadata": {},
   "source": [
    "### 1.5 Python 관련 설정\n",
    "\n",
    "```[bash]\n",
    "include(GrPython)\n",
    "GR_PYTHON_CHECK_MODULE(\"PyQt5\" PyQt5 True PYQT5_FOUND)\n",
    "```\n",
    "\n",
    "PyQt5가 설치되어 있는지 검사하여 GUI 관련 기능이 동작하도록 설정\n",
    "\n",
    "### 1.6 빌드 옵션 설정\n",
    "\n",
    "```[bash]\n",
    "include(GrPython)\n",
    "GR_PYTHON_CHECK_MODULE(\"PyQt5\" PyQt5 True PYQT5_FOUND)\n",
    "```\n",
    "\n",
    "공유 라이브러리 (*.so*, *.dll*)를 기본적으로 빌드하도록 설정"
   ]
  },
  {
   "cell_type": "markdown",
   "metadata": {},
   "source": [
    "GrPlatform included from: /usr/lib/x86_64-linux-gnu/cmake/gnuradio"
   ]
  },
  {
   "cell_type": "markdown",
   "metadata": {},
   "source": [
    "## 2. lib Cmake설정\n",
    "\n",
    "\n",
    "### 2.1 plasma_source\n",
    "```[bash]\n",
    "set(plasma_sources \"${plasma_sources}\" PARENT_SCOPE)\n",
    "```\n",
    "\n",
    "상위 CMake 호출 계층에서 *plasma_suorces* 사용할 수 있게 등록\n",
    "\n",
    "### 2.2 add_library\n",
    "\n",
    "```[bash]\n",
    "list(APPEND plasma_sources\n",
    "    lfm_source_impl.cc\n",
    "    waveform_controller_impl.cc\n",
    "    usrp_radar_impl.cc\n",
    "    pdu_file_sink_impl.cc\n",
    "    pdu_head_impl.cc\n",
    "    pcfm_source_impl.cc\n",
    "    qt_update_events.cc\n",
    "    range_doppler_sink_impl.cc\n",
    "    range_doppler_window.cc\n",
    "    range_doppler_window.h\n",
    "    match_filt_impl.cc\n",
    "    doppler_processing_impl.cc\n",
    "    pulse_to_cpi_impl.cc\n",
    "    phase_code.cc\n",
    "    device.cc\n",
    "    cfar2D_impl.cc\n",
    "    pdu_file_source_impl.cc\n",
    "    pulse_doppler_impl.cc\n",
    "    cw_to_pulsed_impl.cc\n",
    ")\n",
    "```\n",
    "\n",
    "\n",
    "### 2.3 target_link_libraries()\n",
    "\n",
    "다른 필수 라이브러리 연결\n",
    "```[bash]\n",
    "target_link_libraries(gnuradio-plasma \n",
    "    PUBLIC\n",
    "    gnuradio::gnuradio-runtime\n",
    "    Qt5::Widgets\n",
    "    qwt::qwt\n",
    "    Python::Python\n",
    "    ${UHD_LIBRARIES}\n",
    "    nlohmann_json::nlohmann_json\n",
    "    plasma_dsp\n",
    "    ArrayFire::af\n",
    ")\n",
    "```\n",
    "\n",
    "*특이 사항 : JSON 파싱 라이브러리 nlohmann_json::nlohmann_json & plasma_dsp & ArrayFire ::af *\n",
    "\n",
    "### 2.4 target_include_directories()\n",
    "\n",
    "```[bash]\n",
    "target_include_directories(gnuradio-plasma\n",
    "    PUBLIC $<BUILD_INTERFACE:${CMAKE_CURRENT_SOURCE_DIR}/../include>\n",
    "    PUBLIC $<INSTALL_INTERFACE:include>\n",
    ")\n",
    "```\n",
    "\n",
    "- 2.4.1 *BUILD_INTERFACE* ../include 디렉토리에서 헤더파일 찾도록 설정\n",
    "- 2.4.2 *INSTALL_INTERFACE:include 설치후에는 내부 include/ 디렉터리에서 헤더 파일을 찾도록 설정\n",
    "\n"
   ]
  },
  {
   "cell_type": "markdown",
   "metadata": {},
   "source": [
    "\n",
    "### Cmake 설치경로\n",
    "\n",
    "1. \n",
    "``` [bash]\n",
    "install(FILES cmake/Modules/gnuradio-plasmaConfig.cmake\n",
    "    DESTINATION ${GR_CMAKE_DIR}\n",
    ") \n",
    "```\n",
    "```[bash]\n",
    "configure_package_config_file(\n",
    "    ${PROJECT_SOURCE_DIR}/cmake/Modules/targetConfig.cmake.in\n",
    "    ${CMAKE_CURRENT_BINARY_DIR}/cmake/Modules/${target}Config.cmake\n",
    "    INSTALL_DESTINATION ${GR_CMAKE_DIR}\n",
    ")\n",
    "```\n"
   ]
  },
  {
   "cell_type": "markdown",
   "metadata": {
    "vscode": {
     "languageId": "plaintext"
    }
   },
   "source": [
    "### ** 프로젝트 실행흐름\n",
    "\n",
    "1. Python(qa_*.py) 또는 Sheel Script(qa_*.sh)를 실행 -> 테스트 시작\n",
    "2. Python에서 *plasma_python.cpython-310-x86_64-linux-gnu.so *를 import\n",
    "3. libgnuradio-plasma.so가 로드됨\n",
    "4. GNURadio 블록이 실행되며 ArrayFire를 이용한 GPU 기반 신호처리 수행\n",
    "\n"
   ]
  },
  {
   "cell_type": "markdown",
   "metadata": {},
   "source": [
    "### doppler_processing_pydoc_templateSumin\n",
    "```\n",
    "static const char* __doc_gr_plasma_doppler_processing = R\"doc()doc\";\n",
    "\n",
    "\n",
    "static const char* __doc_gr_plasma_doppler_processing_doppler_processing_0 = R\"doc()doc\";\n",
    "\n",
    "\n",
    "static const char* __doc_gr_plasma_doppler_processing_doppler_processing_1 = R\"doc()doc\";\n",
    "\n",
    "\n",
    "static const char* __doc_gr_plasma_doppler_processing_make = R\"doc()doc\";\n",
    "\n",
    "\n",
    "static const char* __doc_gr_plasma_doppler_processing_set_msg_queue_depth = R\"doc()doc\";\n",
    "\n",
    "\n",
    "static const char* __doc_gr_plasma_doppler_processing_set_backend = R\"doc()doc\";\n",
    "\n",
    "\n",
    "static const char* __doc_gr_plasma_doppler_processing_set_metadata_keys = R\"doc()doc\";\n",
    "```\n",
    "\n",
    "\n"
   ]
  },
  {
   "cell_type": "code",
   "execution_count": 3,
   "metadata": {},
   "outputs": [
    {
     "name": "stdout",
     "output_type": "stream",
     "text": [
      "['Device', 'PhaseCode', '__builtins__', '__cached__', '__doc__', '__file__', '__loader__', '__name__', '__package__', '__path__', '__spec__', 'cfar2D', 'cw_to_pulsed', 'doppler_processing', 'lfm_source', 'match_filt', 'os', 'pcfm_source', 'pdu_file_sink', 'pdu_file_source', 'pdu_head', 'plasma_python', 'pulse_doppler', 'pulse_to_cpi', 'range_doppler_sink', 'usrp_radar', 'waveform_controller']\n"
     ]
    }
   ],
   "source": [
    "import gnuradio.plasma as plasma\n",
    "print(dir(plasma))\n"
   ]
  },
  {
   "cell_type": "markdown",
   "metadata": {},
   "source": [
    "수정한 코드들\n",
    "1. grc/plasma_sumin_doppler_processing.block.yml\n",
    "2. include/gnuradio/plasma/advanced_doppler_processing.h\n",
    "3. lib/advanced_doppler_processing_impl.cc\n",
    "4. lib/advanced_doppler_processing_impl.h\n",
    "5. python/plasma/bindings/docstrings/advanced_doppler_processing_pydoc_template.h\n",
    "6. python/plasma/bindings/advanced_doppler_processing_python.cc\n",
    "7. python/plasma/qa_advanced_doppler_processing.py\n",
    "8. python/plasma/bindings/python_bindings.cc\n",
    "9. python/plasma/CMakeLists.txt\n",
    "10. include/gnuradio/plasma/CMakeLists.txt\n",
    "11. python/plasma/bindings/CMakeLists.txt\n",
    "12. python/plasma/CMakeLists.txt\n",
    "\n",
    "hahahahahah..."
   ]
  },
  {
   "cell_type": "markdown",
   "metadata": {},
   "source": [
    "밴치마킹 소스코드\n",
    "\n",
    "```[json]\n",
    "\n",
    "templates:\n",
    "  imports: from gnuradio import plasma\n",
    "  make: |-\n",
    "    plasma.doppler_processing(${num_pulse_cpi}, ${nfft})\n",
    "    self.${id}.set_msg_queue_depth(${depth})\n",
    "    self.${id}.set_backend(${backend})\n",
    "    self.${id}.set_metadata_keys(${n_pulse_cpi_key}, ${doppler_fft_size})\n",
    "\n",
    "```\n"
   ]
  },
  {
   "cell_type": "markdown",
   "metadata": {},
   "source": []
  }
 ],
 "metadata": {
  "kernelspec": {
   "display_name": "Python 3",
   "language": "python",
   "name": "python3"
  },
  "language_info": {
   "codemirror_mode": {
    "name": "ipython",
    "version": 3
   },
   "file_extension": ".py",
   "mimetype": "text/x-python",
   "name": "python",
   "nbconvert_exporter": "python",
   "pygments_lexer": "ipython3",
   "version": "3.10.12"
  }
 },
 "nbformat": 4,
 "nbformat_minor": 2
}
