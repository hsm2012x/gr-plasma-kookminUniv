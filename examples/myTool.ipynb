{
 "cells": [
  {
   "cell_type": "markdown",
   "metadata": {},
   "source": [
    "## 1. 주요 Cmake 설정\n",
    "\n",
    "### 1.1. 프로젝트 초기 설정\n",
    "---\n",
    "```\n",
    "cmake_minimum_required(VERSION 3.8)\n",
    "project(gr-plasma CXX C)\n",
    "enable_testing()\n",
    "```\n",
    "\n",
    "\n",
    "- CMake 최소 버전: 3.8 이상 필요\n",
    "- 프로젝트 이름: gr-plasma\n",
    "- 지원 언어: C++ (CXX), C (C)\n",
    "- 테스트 기능 활성화: enable_testing()"
   ]
  },
  {
   "cell_type": "markdown",
   "metadata": {
    "vscode": {
     "languageId": "plaintext"
    }
   },
   "source": [
    "### 1.2 PyBOMBS 환경 변수 지원\n",
    "\n",
    "```\n",
    "if(DEFINED ENV{PYBOMBS_PREFIX})\n",
    "    set(CMAKE_INSTALL_PREFIX $ENV{PYBOMBS_PREFIX})\n",
    "    message(STATUS \"PyBOMBS installed GNU Radio. Setting CMAKE_INSTALL_PREFIX to $ENV{PYBOMBS_PREFIX}\")\n",
    "endif()\n",
    "```\n",
    "\n",
    "### 1.3 빌드 타입 설정\n",
    "\n",
    "```\n",
    "if(NOT CMAKE_BUILD_TYPE)\n",
    "   set(CMAKE_BUILD_TYPE \"Release\")\n",
    "   message(STATUS \"Build type not specified: defaulting to release.\")\n",
    "endif()\n",
    "```"
   ]
  },
  {
   "cell_type": "markdown",
   "metadata": {},
   "source": []
  },
  {
   "cell_type": "markdown",
   "metadata": {},
   "source": [
    "### 1.4 GNU Radio 및 관련 라이브러리 찾기\n",
    "\n",
    "```\n",
    "find_package(Gnuradio \"3.10\" REQUIRED COMPONENTS blocks)\n",
    "find_package(ArrayFire REQUIRED)\n",
    "find_package(doxygen QUIET)\n",
    "find_package(nlohmann_json QUIET)\n",
    "find_package(plasma_dsp REQUIRED)\n",
    "find_package(PythonLibs 3)\n",
    "find_package(pybind11 REQUIRED)\n",
    "find_package(Qt5 COMPONENTS Widgets REQUIRED)\n",
    "find_package(Qwt REQUIRED)\n",
    "find_package(UHD REQUIRED)\n",
    "```\n",
    "GNU Radio 3.10 버전을 필수적으로 포함해야 함.\n",
    "*ArrayFire*, *plasma_dsp*, *PythonLibs*, *pybind11*, *Qt5*, *Qwt*, *UHD* 등의 추가적인 종속 라이브러리들이 필요함.\n"
   ]
  },
  {
   "cell_type": "markdown",
   "metadata": {},
   "source": [
    "### 1.5 Python 관련 설정\n",
    "\n",
    "```\n",
    "include(GrPython)\n",
    "GR_PYTHON_CHECK_MODULE(\"PyQt5\" PyQt5 True PYQT5_FOUND)\n",
    "```\n",
    "\n",
    "PyQt5가 설치되어 있는지 검사하여 GUI 관련 기능이 동작하도록 설정\n",
    "\n",
    "### 1.6 빌드 옵션 설정\n",
    "\n",
    "```\n",
    "include(GrPython)\n",
    "GR_PYTHON_CHECK_MODULE(\"PyQt5\" PyQt5 True PYQT5_FOUND)\n",
    "```\n",
    "\n",
    "공유 라이브러리 (*.so*, *.dll*)를 기본적으로 빌드하도록 설정"
   ]
  },
  {
   "cell_type": "markdown",
   "metadata": {},
   "source": [
    "GrPlatform included from: /usr/lib/x86_64-linux-gnu/cmake/gnuradio"
   ]
  },
  {
   "cell_type": "markdown",
   "metadata": {},
   "source": []
  }
 ],
 "metadata": {
  "language_info": {
   "name": "python"
  }
 },
 "nbformat": 4,
 "nbformat_minor": 2
}
